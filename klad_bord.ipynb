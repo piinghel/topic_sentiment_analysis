{
 "metadata": {
  "language_info": {
   "codemirror_mode": {
    "name": "ipython",
    "version": 3
   },
   "file_extension": ".py",
   "mimetype": "text/x-python",
   "name": "python",
   "nbconvert_exporter": "python",
   "pygments_lexer": "ipython3",
   "version": "3.8.5-final"
  },
  "orig_nbformat": 2,
  "kernelspec": {
   "name": "Python 3.8.5 64-bit ('marketDb': conda)",
   "display_name": "Python 3.8.5 64-bit ('marketDb': conda)",
   "metadata": {
    "interpreter": {
     "hash": "da7da18f7dcd41e7a81ec74e90711281ddbec5154b5850f9ce826c3d3db48e2a"
    }
   }
  }
 },
 "nbformat": 4,
 "nbformat_minor": 2,
 "cells": [
  {
   "cell_type": "code",
   "execution_count": 1,
   "metadata": {},
   "outputs": [],
   "source": [
    "import pandas as pd \n",
    "import PyPDF2\n",
    "import os\n",
    "import spacy\n",
    "import re\n",
    "import string\n",
    "from transformers import AutoModelForSequenceClassification, AutoTokenizer, pipeline\n",
    "\n",
    "# own module\n",
    "import helper_functions.models as models\n",
    "import helper_functions.preprocessing as preprocess"
   ]
  },
  {
   "cell_type": "code",
   "execution_count": 2,
   "metadata": {},
   "outputs": [],
   "source": [
    "# load document\n",
    "dir = 'data/Morgan-Stanley_2019-Sustainability-Report_Final.pdf'\n",
    "df = pd.DataFrame({'Ticker':'Barclays', 'content': preprocess.extract_content(dir=dir)}, index=[0])\n",
    "articles = preprocess.extract_statements(text=df['content'].values.tolist()[0])"
   ]
  },
  {
   "cell_type": "code",
   "execution_count": 3,
   "metadata": {},
   "outputs": [
    {
     "output_type": "stream",
     "name": "stderr",
     "text": [
      "Some weights of the model checkpoint at joeddav/xlm-roberta-large-xnli were not used when initializing XLMRobertaForSequenceClassification: ['roberta.pooler.dense.weight', 'roberta.pooler.dense.bias']\n- This IS expected if you are initializing XLMRobertaForSequenceClassification from the checkpoint of a model trained on another task or with another architecture (e.g. initializing a BertForSequenceClassification model from a BertForPretraining model).\n- This IS NOT expected if you are initializing XLMRobertaForSequenceClassification from the checkpoint of a model that you expect to be exactly identical (initializing a BertForSequenceClassification model from a BertForSequenceClassification model).\n"
     ]
    }
   ],
   "source": [
    "# load models\n",
    "topic_model = models.topic_load_model(model_dir=\"joeddav/xlm-roberta-large-xnli\")\n",
    "sentiment_model = models.sentiment_load_model(model_dir=\"distilbert-base-uncased-finetuned-sst-2-english\")"
   ]
  },
  {
   "cell_type": "code",
   "execution_count": 5,
   "metadata": {},
   "outputs": [
    {
     "output_type": "execute_result",
     "data": {
      "text/plain": [
       "                                       Original text  Social     ESG  Finance  \\\n",
       "0  Sustainability Report TABLE OF CONTENTS 3Our S...  92.943  86.936   39.765   \n",
       "1  Committed to facilitate the prevention, reduct...  55.083  44.916   19.968   \n",
       "2  Introduced a new Sustainability at Work progra...  48.869  93.394    0.131   \n",
       "\n",
       "    Food  NEGATIVE  POSITIVE  \n",
       "0  0.180     0.323    99.677  \n",
       "1  0.110     2.189    97.811  \n",
       "2  0.027     0.179    99.821  "
      ],
      "text/html": "<div>\n<style scoped>\n    .dataframe tbody tr th:only-of-type {\n        vertical-align: middle;\n    }\n\n    .dataframe tbody tr th {\n        vertical-align: top;\n    }\n\n    .dataframe thead th {\n        text-align: right;\n    }\n</style>\n<table border=\"1\" class=\"dataframe\">\n  <thead>\n    <tr style=\"text-align: right;\">\n      <th></th>\n      <th>Original text</th>\n      <th>Social</th>\n      <th>ESG</th>\n      <th>Finance</th>\n      <th>Food</th>\n      <th>NEGATIVE</th>\n      <th>POSITIVE</th>\n    </tr>\n  </thead>\n  <tbody>\n    <tr>\n      <th>0</th>\n      <td>Sustainability Report TABLE OF CONTENTS 3Our S...</td>\n      <td>92.943</td>\n      <td>86.936</td>\n      <td>39.765</td>\n      <td>0.180</td>\n      <td>0.323</td>\n      <td>99.677</td>\n    </tr>\n    <tr>\n      <th>1</th>\n      <td>Committed to facilitate the prevention, reduct...</td>\n      <td>55.083</td>\n      <td>44.916</td>\n      <td>19.968</td>\n      <td>0.110</td>\n      <td>2.189</td>\n      <td>97.811</td>\n    </tr>\n    <tr>\n      <th>2</th>\n      <td>Introduced a new Sustainability at Work progra...</td>\n      <td>48.869</td>\n      <td>93.394</td>\n      <td>0.131</td>\n      <td>0.027</td>\n      <td>0.179</td>\n      <td>99.821</td>\n    </tr>\n  </tbody>\n</table>\n</div>"
     },
     "metadata": {},
     "execution_count": 5
    }
   ],
   "source": [
    "topics = [\"ESG\",\"Food\", \"Finance\", \"Social\"]\n",
    "nr_paragraphs = 3\n",
    "predictions_all = models.predict(topic_model=topic_model, sentiment_model=sentiment_model, doc=articles[0:nr_paragraphs], topics=topics)\n",
    "models.format_topic_sent(dic=predictions_all, doc=articles[0:nr_paragraphs])"
   ]
  },
  {
   "cell_type": "code",
   "execution_count": 6,
   "metadata": {},
   "outputs": [
    {
     "output_type": "execute_result",
     "data": {
      "text/plain": [
       "         Confidence (%)\n",
       "ESG              75.082\n",
       "Social           65.632\n",
       "Finance          19.954\n",
       "Food              0.106"
      ],
      "text/html": "<div>\n<style scoped>\n    .dataframe tbody tr th:only-of-type {\n        vertical-align: middle;\n    }\n\n    .dataframe tbody tr th {\n        vertical-align: top;\n    }\n\n    .dataframe thead th {\n        text-align: right;\n    }\n</style>\n<table border=\"1\" class=\"dataframe\">\n  <thead>\n    <tr style=\"text-align: right;\">\n      <th></th>\n      <th>Confidence (%)</th>\n    </tr>\n  </thead>\n  <tbody>\n    <tr>\n      <th>ESG</th>\n      <td>75.082</td>\n    </tr>\n    <tr>\n      <th>Social</th>\n      <td>65.632</td>\n    </tr>\n    <tr>\n      <th>Finance</th>\n      <td>19.954</td>\n    </tr>\n    <tr>\n      <th>Food</th>\n      <td>0.106</td>\n    </tr>\n  </tbody>\n</table>\n</div>"
     },
     "metadata": {},
     "execution_count": 6
    }
   ],
   "source": [
    "# show topic predictions\n",
    "(pd.DataFrame(predictions_all[\"Topic\"].mean(),columns=['Confidence (%)'])*100).round(3).sort_values(by='Confidence (%)',ascending=False)"
   ]
  },
  {
   "source": [
    "# Show weighted normalized sentiment predictions \n",
    "models.compute_weighted_sentiment(dic=predictions_all)"
   ],
   "cell_type": "code",
   "metadata": {},
   "execution_count": 7,
   "outputs": [
    {
     "output_type": "execute_result",
     "data": {
      "text/plain": [
       "                  Confidence (%)\n",
       "NEGATIVE Social            0.809\n",
       "         ESG               0.635\n",
       "         Finance           0.945\n",
       "         Food              0.958\n",
       "POSITIVE Social           99.191\n",
       "         ESG              99.365\n",
       "         Finance          99.055\n",
       "         Food             99.042"
      ],
      "text/html": "<div>\n<style scoped>\n    .dataframe tbody tr th:only-of-type {\n        vertical-align: middle;\n    }\n\n    .dataframe tbody tr th {\n        vertical-align: top;\n    }\n\n    .dataframe thead th {\n        text-align: right;\n    }\n</style>\n<table border=\"1\" class=\"dataframe\">\n  <thead>\n    <tr style=\"text-align: right;\">\n      <th></th>\n      <th></th>\n      <th>Confidence (%)</th>\n    </tr>\n  </thead>\n  <tbody>\n    <tr>\n      <th rowspan=\"4\" valign=\"top\">NEGATIVE</th>\n      <th>Social</th>\n      <td>0.809</td>\n    </tr>\n    <tr>\n      <th>ESG</th>\n      <td>0.635</td>\n    </tr>\n    <tr>\n      <th>Finance</th>\n      <td>0.945</td>\n    </tr>\n    <tr>\n      <th>Food</th>\n      <td>0.958</td>\n    </tr>\n    <tr>\n      <th rowspan=\"4\" valign=\"top\">POSITIVE</th>\n      <th>Social</th>\n      <td>99.191</td>\n    </tr>\n    <tr>\n      <th>ESG</th>\n      <td>99.365</td>\n    </tr>\n    <tr>\n      <th>Finance</th>\n      <td>99.055</td>\n    </tr>\n    <tr>\n      <th>Food</th>\n      <td>99.042</td>\n    </tr>\n  </tbody>\n</table>\n</div>"
     },
     "metadata": {},
     "execution_count": 7
    }
   ]
  }
 ]
}